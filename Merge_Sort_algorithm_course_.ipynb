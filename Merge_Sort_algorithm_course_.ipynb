{
  "cells": [
    {
      "cell_type": "markdown",
      "metadata": {
        "id": "view-in-github",
        "colab_type": "text"
      },
      "source": [
        "<a href=\"https://colab.research.google.com/github/Nader-Khalil/Algorithms_Implmentation/blob/main/Merge_Sort_algorithm_course_.ipynb\" target=\"_parent\"><img src=\"https://colab.research.google.com/assets/colab-badge.svg\" alt=\"Open In Colab\"/></a>"
      ]
    },
    {
      "cell_type": "markdown",
      "id": "25c2e18f",
      "metadata": {
        "id": "25c2e18f"
      },
      "source": [
        "### Author : Nader Mohamed Khalil"
      ]
    },
    {
      "cell_type": "markdown",
      "id": "ea19b013",
      "metadata": {
        "id": "ea19b013"
      },
      "source": [
        "#### Merge sort in dancing is most likely used in all aspects , cause it sperates the process into two , but in Gif this is not happen it sperates all units to one elements "
      ]
    },
    {
      "cell_type": "markdown",
      "id": "8e282f99",
      "metadata": {
        "id": "8e282f99"
      },
      "source": [
        "#### Q : Merge Sort(Answer the question-->Correct Simulation is in Dance or Animation)"
      ]
    },
    {
      "cell_type": "code",
      "execution_count": null,
      "id": "d874bdac",
      "metadata": {
        "id": "d874bdac"
      },
      "outputs": [],
      "source": [
        "def merge_sort(list):\n",
        "    # 1. Store the length of the list\n",
        "    list_length = len(list)\n",
        "\n",
        "    # 2. List with length less than is already sorted\n",
        "    if list_length == 1:\n",
        "        return list\n",
        "\n",
        "    # 3. Identify the list midpoint and partition the list into a left_partition and a right_partition\n",
        "    mid_point = list_length // 2\n",
        "\n",
        "    # 4. To ensure all partitions are broken down into their individual components,\n",
        "    # the merge_sort function is called and a partitioned portion of the list is passed as a parameter\n",
        "    left_partition = merge_sort(list[:mid_point])\n",
        "    right_partition = merge_sort(list[mid_point:])\n",
        "\n",
        "    # 5. The merge_sort function returns a list composed of a sorted left and right partition.\n",
        "    return merge(left_partition, right_partition)\n",
        "   \n",
        "# 6. takes in two lists and returns a sorted list made up of the content within the two lists\n",
        "def merge(left, right):\n",
        "    # 7. Initialize an empty list output that will be populated with sorted elements.\n",
        "    # Initialize two variables i and j which are used pointers when iterating through the lists.\n",
        "    output = []\n",
        "    i = j = 0\n",
        "\n",
        "    # 8. Executes the while loop if both pointers i and j are less than the length of the left and right lists\n",
        "    while i < len(left) and j < len(right):\n",
        "        # 9. Compare the elements at every position of both lists during each iteration\n",
        "        if left[i] < right[j]:\n",
        "            # output is populated with the lesser value\n",
        "            output.append(left[i])\n",
        "            # 10. Move pointer to the right\n",
        "            i += 1\n",
        "        else:\n",
        "            output.append(right[j])\n",
        "            j += 1\n",
        "    # 11. The remnant elements are picked from the current pointer value to the end of the respective list\n",
        "    output.extend(left[i:])\n",
        "    output.extend(right[j:])\n",
        "\n",
        "    return output\n",
        "\n"
      ]
    },
    {
      "cell_type": "code",
      "execution_count": null,
      "id": "332b5acf",
      "metadata": {
        "id": "332b5acf",
        "outputId": "e053460a-ae3e-406c-9ccd-8beaa5d45006"
      },
      "outputs": [
        {
          "name": "stdout",
          "output_type": "stream",
          "text": [
            "Before sorting  : [2, 4, 1, 9, 7, 2, 6, 0, 45, 5, 7, 23]\n",
            "after sorting : [0, 1, 2, 2, 4, 5, 6, 7, 7, 9, 23, 45]\n"
          ]
        }
      ],
      "source": [
        "\n",
        "unsorted_list = [2, 4, 1, 9, 7, 2, 6,0, 45, 5, 7, 23]\n",
        "print(f\"Before sorting  : {unsorted_list}\")\n",
        "sorted_list = merge_sort(unsorted_list)\n",
        "print(f\"after sorting : {sorted_list}\")\n",
        "\n",
        "\n"
      ]
    },
    {
      "cell_type": "code",
      "execution_count": null,
      "id": "39f57f62",
      "metadata": {
        "id": "39f57f62"
      },
      "outputs": [],
      "source": [
        ""
      ]
    }
  ],
  "metadata": {
    "kernelspec": {
      "display_name": "Python 3 (ipykernel)",
      "language": "python",
      "name": "python3"
    },
    "language_info": {
      "codemirror_mode": {
        "name": "ipython",
        "version": 3
      },
      "file_extension": ".py",
      "mimetype": "text/x-python",
      "name": "python",
      "nbconvert_exporter": "python",
      "pygments_lexer": "ipython3",
      "version": "3.9.7"
    },
    "colab": {
      "name": "Merge_Sort_algorithm_course .ipynb",
      "provenance": [],
      "include_colab_link": true
    }
  },
  "nbformat": 4,
  "nbformat_minor": 5
}