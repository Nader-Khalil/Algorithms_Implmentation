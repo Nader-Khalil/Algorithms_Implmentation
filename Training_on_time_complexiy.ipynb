{
  "cells": [
    {
      "cell_type": "markdown",
      "metadata": {
        "id": "view-in-github",
        "colab_type": "text"
      },
      "source": [
        "<a href=\"https://colab.research.google.com/github/Nader-Khalil/Algorithms_Implmentation/blob/main/Training_on_time_complexiy.ipynb\" target=\"_parent\"><img src=\"https://colab.research.google.com/assets/colab-badge.svg\" alt=\"Open In Colab\"/></a>"
      ]
    },
    {
      "cell_type": "markdown",
      "id": "2c101cb7",
      "metadata": {
        "id": "2c101cb7"
      },
      "source": [
        "### Name : Nader Mohamed Hamdy Khalil"
      ]
    },
    {
      "cell_type": "markdown",
      "id": "b70f2f02",
      "metadata": {
        "id": "b70f2f02"
      },
      "source": [
        "#### Lab : 1     "
      ]
    },
    {
      "cell_type": "markdown",
      "id": "b43aab07",
      "metadata": {
        "id": "b43aab07"
      },
      "source": [
        "#####                                                     1 -Factorial With Iterative "
      ]
    },
    {
      "cell_type": "code",
      "execution_count": null,
      "id": "6899e893",
      "metadata": {
        "id": "6899e893"
      },
      "outputs": [],
      "source": [
        "\n",
        "def factorial_for_loop(n):\n",
        "    result = 1\n",
        "    if n >= 1:\n",
        "        for i in range(1, n+1):\n",
        "            result = result * i\n",
        "        return result\n",
        "    elif n == 0:\n",
        "        return 1\n",
        "    else :\n",
        "        return 'n has to be positive'"
      ]
    },
    {
      "cell_type": "code",
      "execution_count": null,
      "id": "6b917d13",
      "metadata": {
        "id": "6b917d13",
        "outputId": "8d48c03e-b2a5-4b92-ca15-5f271eefecb9"
      },
      "outputs": [
        {
          "name": "stdout",
          "output_type": "stream",
          "text": [
            "Enter No. To get its factorial 5\n",
            " factorial of 5 = 120 \n"
          ]
        }
      ],
      "source": [
        "n=int(input(\"Enter No. To get its factorial \"))\n",
        "print(f\" factorial of {n} = {factorial_for_loop(n)} \")"
      ]
    },
    {
      "cell_type": "markdown",
      "id": "d3760a65",
      "metadata": {
        "id": "d3760a65"
      },
      "source": [
        "#### Time of Factorial Using itrative method >> O(n)"
      ]
    },
    {
      "cell_type": "markdown",
      "id": "c8b98357",
      "metadata": {
        "id": "c8b98357"
      },
      "source": [
        "#### 2 - Factorial With Recursive"
      ]
    },
    {
      "cell_type": "code",
      "execution_count": null,
      "id": "0426d9b6",
      "metadata": {
        "id": "0426d9b6"
      },
      "outputs": [],
      "source": [
        "def factorial_rec(n):\n",
        "    if n == 0:\n",
        "        return 1\n",
        "    elif n <1:\n",
        "        return \"No Factorial for negative \"\n",
        "    else:\n",
        "        return n * factorial_rec(n-1)"
      ]
    },
    {
      "cell_type": "code",
      "execution_count": null,
      "id": "fd904e40",
      "metadata": {
        "id": "fd904e40",
        "outputId": "c15755ea-7833-4c4a-f2ce-e5b3acd4a599"
      },
      "outputs": [
        {
          "name": "stdout",
          "output_type": "stream",
          "text": [
            "Enter No. To get its factorial 6\n",
            " factorial of 6 = 720 \n"
          ]
        }
      ],
      "source": [
        "n=int(input(\"Enter No. To get its factorial \"))\n",
        "print(f\" factorial of {n} = {factorial_rec(n)} \")"
      ]
    },
    {
      "cell_type": "markdown",
      "id": "32fa89d9",
      "metadata": {
        "id": "32fa89d9"
      },
      "source": [
        "#### Time of Factorial Using Recursive method >> O(n)"
      ]
    },
    {
      "cell_type": "markdown",
      "id": "b899d039",
      "metadata": {
        "id": "b899d039"
      },
      "source": [
        "##### 3 - Fibonacci With itration "
      ]
    },
    {
      "cell_type": "code",
      "execution_count": null,
      "id": "22a1adb1",
      "metadata": {
        "id": "22a1adb1"
      },
      "outputs": [],
      "source": [
        "def fibonacci(n):\n",
        "    if n>0 :\n",
        "        secondLast = 0\n",
        "        Last = 1\n",
        "        if n == 1:\n",
        "            return secondLast\n",
        "        elif n == 2:\n",
        "            return Last\n",
        "        else:\n",
        "            for i in range(3, n+1):\n",
        "                result = secondLast + Last\n",
        "                secondLast = Last\n",
        "                Last = result\n",
        "            return result\n",
        "    else :\n",
        "        return \"fibonacci series starts from 1 index \"\n",
        "        \n"
      ]
    },
    {
      "cell_type": "code",
      "execution_count": null,
      "id": "d09dd37f",
      "metadata": {
        "id": "d09dd37f",
        "outputId": "8031ee02-c9bf-4eb9-d173-d266bd5bf4ce"
      },
      "outputs": [
        {
          "name": "stdout",
          "output_type": "stream",
          "text": [
            "Enter No. To get its fibonacci 2\n",
            " fibonacci of 2 = 1 \n",
            "Enter No. To get its fibonacci 3\n",
            " fibonacci of 3 = 1 \n",
            "Enter No. To get its fibonacci 5\n",
            " fibonacci of 5 = 3 \n"
          ]
        }
      ],
      "source": [
        "f1=int(input(\"Enter No. To get its fibonacci \"))\n",
        "print(f\" fibonacci of {f1} = {fibonacci(f1)} \")\n",
        "\n",
        "##\n",
        "f2=int(input(\"Enter No. To get its fibonacci \"))\n",
        "print(f\" fibonacci of {f2} = {fibonacci(f2)} \")\n",
        "\n",
        "##\n",
        "f3=int(input(\"Enter No. To get its fibonacci \"))\n",
        "print(f\" fibonacci of {f3} = {fibonacci(f3)} \")"
      ]
    },
    {
      "cell_type": "markdown",
      "id": "63973a7f",
      "metadata": {
        "id": "63973a7f"
      },
      "source": [
        "#### Time Complexity: O(N)\n",
        "\n",
        "#### Space Complexity: O(1)\n",
        "####"
      ]
    },
    {
      "cell_type": "markdown",
      "id": "c7e43deb",
      "metadata": {
        "id": "c7e43deb"
      },
      "source": [
        "#### Fibonacci With recursive "
      ]
    },
    {
      "cell_type": "code",
      "execution_count": null,
      "id": "b371dc1e",
      "metadata": {
        "id": "b371dc1e"
      },
      "outputs": [],
      "source": [
        "def fibonacci_rec(n):\n",
        "    if n>0:\n",
        "        if n == 1:\n",
        "            return 0\n",
        "        elif n == 2:\n",
        "            return 1\n",
        "        else:\n",
        "            return fibonacci(n-1) + fibonacci(n-2)\n",
        "    else :\n",
        "        return \"fibonacci series starts from 1 index \"\n",
        "        "
      ]
    },
    {
      "cell_type": "code",
      "execution_count": null,
      "id": "100bc4f1",
      "metadata": {
        "id": "100bc4f1",
        "outputId": "f255fd5c-23a2-4060-bf34-f6a10de05315"
      },
      "outputs": [
        {
          "name": "stdout",
          "output_type": "stream",
          "text": [
            "Enter No. To get its fibonacci 2\n",
            " fibonacci of 2 = 1 \n",
            "Enter No. To get its fibonacci 1\n",
            " fibonacci of 1 = 0 \n",
            "Enter No. To get its fibonacci 6\n",
            " fibonacci of 6 = 5 \n"
          ]
        }
      ],
      "source": [
        "f1=int(input(\"Enter No. To get its fibonacci \"))\n",
        "print(f\" fibonacci of {f1} = {fibonacci_rec(f1)} \")\n",
        "\n",
        "##\n",
        "f2=int(input(\"Enter No. To get its fibonacci \"))\n",
        "print(f\" fibonacci of {f2} = {fibonacci_rec(f2)} \")\n",
        "\n",
        "##\n",
        "f3=int(input(\"Enter No. To get its fibonacci \"))\n",
        "print(f\" fibonacci of {f3} = {fibonacci_rec(f3)} \")"
      ]
    },
    {
      "cell_type": "markdown",
      "id": "09e95ff6",
      "metadata": {
        "id": "09e95ff6"
      },
      "source": [
        "#### Time Complexity: O(2^N) Exponential\n",
        "\n",
        "#### Space Complexity: O(N)"
      ]
    },
    {
      "cell_type": "code",
      "execution_count": null,
      "id": "c2314997",
      "metadata": {
        "id": "c2314997"
      },
      "outputs": [],
      "source": [
        ""
      ]
    },
    {
      "cell_type": "code",
      "execution_count": null,
      "id": "d1a02872",
      "metadata": {
        "id": "d1a02872"
      },
      "outputs": [],
      "source": [
        ""
      ]
    },
    {
      "cell_type": "markdown",
      "id": "66174b9d",
      "metadata": {
        "id": "66174b9d"
      },
      "source": [
        "#### 5 - Linear Search itrative method "
      ]
    },
    {
      "cell_type": "code",
      "execution_count": null,
      "id": "c8b6c005",
      "metadata": {
        "id": "c8b6c005"
      },
      "outputs": [],
      "source": [
        "def linear_Search(list1, n, key):  \n",
        "  \n",
        "    # Searching list1 sequentially  \n",
        "    for i in range(0, n):  \n",
        "        if (list1[i] == key):  \n",
        "            return f\"Your target at index of {i}\" \n",
        "    return f\"This Element doesn't exist at the list \"\n",
        "  \n",
        "  "
      ]
    },
    {
      "cell_type": "code",
      "execution_count": null,
      "id": "0b2c5ef9",
      "metadata": {
        "id": "0b2c5ef9",
        "outputId": "e5ad8aee-4115-4f96-850a-ab80c1d05452"
      },
      "outputs": [
        {
          "data": {
            "text/plain": [
              "'Your target at index of 1'"
            ]
          },
          "execution_count": 10,
          "metadata": {},
          "output_type": "execute_result"
        }
      ],
      "source": [
        "list1 = [1 ,7, 5, 4, 152, 15]  \n",
        "key = 7  \n",
        "  \n",
        "n = len(list1)  \n",
        "linear_Search(list1, n, key)  "
      ]
    },
    {
      "cell_type": "markdown",
      "id": "6e2a25f5",
      "metadata": {
        "id": "6e2a25f5"
      },
      "source": [
        "#### Time Complexity : O(n)"
      ]
    },
    {
      "cell_type": "code",
      "execution_count": null,
      "id": "a0455a32",
      "metadata": {
        "id": "a0455a32"
      },
      "outputs": [],
      "source": [
        ""
      ]
    },
    {
      "cell_type": "markdown",
      "id": "f2b050d7",
      "metadata": {
        "id": "f2b050d7"
      },
      "source": [
        "#### 6- Linear Search Recursive method "
      ]
    },
    {
      "cell_type": "code",
      "execution_count": null,
      "id": "3bd077c8",
      "metadata": {
        "id": "3bd077c8"
      },
      "outputs": [],
      "source": [
        "def rec_lin_search (target, lst, index=0):\n",
        "    if index >= len(lst):\n",
        "        return f\"your target not found in this list \"\n",
        "    if lst[index] == target:\n",
        "        return f\"your target at index of {index}\"\n",
        "    else:\n",
        "        return rec_lin_search(target, lst, index+1)"
      ]
    },
    {
      "cell_type": "code",
      "execution_count": null,
      "id": "f341ffe7",
      "metadata": {
        "id": "f341ffe7",
        "outputId": "f5ef6d6d-8fd6-4afa-f2a2-c128efc34822"
      },
      "outputs": [
        {
          "name": "stdout",
          "output_type": "stream",
          "text": [
            "your target at index of 2\n"
          ]
        }
      ],
      "source": [
        "List = [7,6,1,8,52,74,12,85,14]\n",
        "print (rec_lin_search(1,List))"
      ]
    },
    {
      "cell_type": "markdown",
      "id": "d5c57d87",
      "metadata": {
        "id": "d5c57d87"
      },
      "source": [
        "#### Time Complexity : O(n)"
      ]
    },
    {
      "cell_type": "code",
      "execution_count": null,
      "id": "d5844f83",
      "metadata": {
        "id": "d5844f83"
      },
      "outputs": [],
      "source": [
        "# Another wayy for recursive method "
      ]
    },
    {
      "cell_type": "code",
      "execution_count": null,
      "id": "c8d4b739",
      "metadata": {
        "id": "c8d4b739"
      },
      "outputs": [],
      "source": [
        "def rec_Search( arr, l, r, x):\n",
        "    if r < l:\n",
        "        return f\"your target not found in this list \"\n",
        "    if arr[l] == x:\n",
        "        return f\"your target at index of {l}\"\n",
        "    if arr[r] == x:\n",
        "        return f\"your target at index of {r}\"\n",
        "    return rec_Search(arr, l+1, r-1, x)\n",
        " \n"
      ]
    },
    {
      "cell_type": "code",
      "execution_count": null,
      "id": "e12f806d",
      "metadata": {
        "id": "e12f806d",
        "outputId": "00560bc7-2a89-42ef-cc25-ba0a5ed47be8"
      },
      "outputs": [
        {
          "name": "stdout",
          "output_type": "stream",
          "text": [
            "your target at index of 4\n"
          ]
        }
      ],
      "source": [
        "arr = [12, 34, 54, 2, 3]\n",
        "n = len(arr)\n",
        "x = 3\n",
        "print(rec_Search(arr, 0, n-1, x))\n"
      ]
    },
    {
      "cell_type": "code",
      "execution_count": null,
      "id": "a539a1f8",
      "metadata": {
        "id": "a539a1f8"
      },
      "outputs": [],
      "source": [
        ""
      ]
    },
    {
      "cell_type": "markdown",
      "id": "ddf966eb",
      "metadata": {
        "id": "ddf966eb"
      },
      "source": [
        "#### 7- Binary Search itrative method "
      ]
    },
    {
      "cell_type": "code",
      "execution_count": null,
      "id": "e4886fa8",
      "metadata": {
        "id": "e4886fa8"
      },
      "outputs": [],
      "source": [
        "def binary_search(arr, x):\n",
        "    low = 0\n",
        "    high = len(arr) - 1\n",
        "    mid = 0\n",
        " \n",
        "    while low <= high:\n",
        "        mid = (high + low) // 2\n",
        "        \n",
        "        if arr[mid] < x:\n",
        "            low = mid + 1\n",
        "        elif arr[mid] > x:\n",
        "            high = mid - 1\n",
        " \n",
        "        # means x is present at mid\n",
        "        else:\n",
        "            return f\"your target at index of {mid}\"\n",
        "    return f\"Your target not found\""
      ]
    },
    {
      "cell_type": "code",
      "execution_count": null,
      "id": "06a6a804",
      "metadata": {
        "id": "06a6a804",
        "outputId": "af2b8eca-c5b6-41b7-8d19-ae2843ad72f0"
      },
      "outputs": [
        {
          "name": "stdout",
          "output_type": "stream",
          "text": [
            "[2, 4, 10, 40, 100]\n",
            "your target at index of 2\n"
          ]
        }
      ],
      "source": [
        "arr = [ 2, 100, 4, 10, 40 ]\n",
        "arr.sort()\n",
        "x = 10\n",
        "\n",
        "print(arr)\n",
        "print(binary_search(arr, x))"
      ]
    },
    {
      "cell_type": "markdown",
      "id": "dfc233b6",
      "metadata": {
        "id": "dfc233b6"
      },
      "source": [
        "#### time complexity O(log(n))"
      ]
    },
    {
      "cell_type": "markdown",
      "id": "e5875ca4",
      "metadata": {
        "id": "e5875ca4"
      },
      "source": [
        "#### 8- Binary Search Recursive method"
      ]
    },
    {
      "cell_type": "code",
      "execution_count": null,
      "id": "50db43fd",
      "metadata": {
        "id": "50db43fd"
      },
      "outputs": [],
      "source": [
        "def rec_binary_search(arr, low, high, x):\n",
        "    # Check base case\n",
        "    if high >= low:\n",
        "        mid = (high + low) // 2\n",
        "        if arr[mid] == x:\n",
        "            return f\"your target at index of {mid}\"\n",
        "        elif arr[mid] > x:\n",
        "            return rec_binary_search(arr, low, mid - 1, x)\n",
        " \n",
        "        else:\n",
        "            return rec_binary_search(arr, mid + 1, high, x)\n",
        " \n",
        "    else:\n",
        "        return f\"Your target not found\"\n",
        " "
      ]
    },
    {
      "cell_type": "code",
      "execution_count": null,
      "id": "9c48cbe7",
      "metadata": {
        "id": "9c48cbe7",
        "outputId": "e1a811ff-3e44-4cfe-e2af-ca1497e346bc"
      },
      "outputs": [
        {
          "name": "stdout",
          "output_type": "stream",
          "text": [
            "your target at index of 2\n"
          ]
        }
      ],
      "source": [
        "arr = [ 2,7, 3, 78, 40 ]\n",
        "x = 7\n",
        "arr.sort()\n",
        "print( rec_binary_search(arr, 0, len(arr)-1, x))\n",
        " \n"
      ]
    },
    {
      "cell_type": "markdown",
      "id": "94aed06b",
      "metadata": {
        "id": "94aed06b"
      },
      "source": [
        "#### time complexity O(log(n))"
      ]
    },
    {
      "cell_type": "markdown",
      "id": "f8ed75c2",
      "metadata": {
        "id": "f8ed75c2"
      },
      "source": [
        "#### 9-Bubble sort without swap "
      ]
    },
    {
      "cell_type": "code",
      "execution_count": null,
      "id": "51ab6338",
      "metadata": {
        "id": "51ab6338",
        "outputId": "4d772c6d-a715-4eb4-ecd6-913a2bc18230"
      },
      "outputs": [
        {
          "name": "stdout",
          "output_type": "stream",
          "text": [
            "The unsorted list is:  [5, 3, 8, 6, 7, 2]\n",
            "The sorted list is:  [2, 3, 5, 6, 7, 8]\n"
          ]
        }
      ],
      "source": [
        "def bubble_sort(list1):  \n",
        "    # Outer loop for traverse the entire list  \n",
        "    for i in range(0,len(list1)-1):  \n",
        "        for j in range(len(list1)-1):  \n",
        "            if(list1[j]>list1[j+1]):   \n",
        "               # Just in python we can swap dicrectly like this :D xD \n",
        "                list1[j],list1[j+1] = list1[j+1], list1[j]  \n",
        "    return list1  \n",
        "  \n",
        "list1 = [5, 3, 8, 6, 7, 2]  \n",
        "print(\"The unsorted list is: \", list1)  \n",
        "# Calling the bubble sort function  \n",
        "print(\"The sorted list is: \", bubble_sort(list1))  "
      ]
    },
    {
      "cell_type": "code",
      "execution_count": null,
      "id": "939f4a51",
      "metadata": {
        "id": "939f4a51"
      },
      "outputs": [],
      "source": [
        ""
      ]
    },
    {
      "cell_type": "markdown",
      "id": "f22030a0",
      "metadata": {
        "id": "f22030a0"
      },
      "source": [
        "#### Time Complexity : O(n²)"
      ]
    },
    {
      "cell_type": "markdown",
      "id": "a8ca5789",
      "metadata": {
        "id": "a8ca5789"
      },
      "source": [
        "#### 10- Bubble sort with Swap "
      ]
    },
    {
      "cell_type": "code",
      "execution_count": null,
      "id": "4c558c41",
      "metadata": {
        "id": "4c558c41",
        "outputId": "da2faf72-1c73-4cd6-bac7-34bcc55072d8"
      },
      "outputs": [
        {
          "name": "stdout",
          "output_type": "stream",
          "text": [
            "The unsorted list is:  [9, 3, 8, 6, 7, 2]\n",
            "The sorted list is:  [2, 3, 6, 7, 8, 9]\n"
          ]
        }
      ],
      "source": [
        "def bubble_sort_2(list1):  \n",
        "   # We can stop the iteration once the swap has done  \n",
        "    has_swapped = True  \n",
        "  \n",
        "    while(has_swapped):  \n",
        "        has_swapped = False  \n",
        "        for i in range(len(list1) - 1):  \n",
        "            if list1[i] > list1[i+1]:  \n",
        "                # Swap  \n",
        "                list1[i], list1[i+1] = list1[i+1], list1[i]  \n",
        "                has_swapped = True  \n",
        "    return list1  \n",
        "  \n",
        "  \n",
        "list1 = [9, 3, 8, 6, 7, 2]  \n",
        "print(\"The unsorted list is: \", list1)  \n",
        "# Calling the bubble sort function  \n",
        "print(\"The sorted list is: \", bubble_sort_2(list1))  "
      ]
    },
    {
      "cell_type": "code",
      "execution_count": null,
      "id": "c23736ac",
      "metadata": {
        "id": "c23736ac"
      },
      "outputs": [],
      "source": [
        ""
      ]
    },
    {
      "cell_type": "markdown",
      "id": "da21fcfe",
      "metadata": {
        "id": "da21fcfe"
      },
      "source": [
        "#### Time Complexity : O(n²)"
      ]
    },
    {
      "cell_type": "markdown",
      "id": "4f56a179",
      "metadata": {
        "id": "4f56a179"
      },
      "source": [
        "#### 11 - Insertion Sort "
      ]
    },
    {
      "cell_type": "code",
      "execution_count": null,
      "id": "436094f6",
      "metadata": {
        "id": "436094f6",
        "outputId": "0433caa8-6934-450c-a43a-d7b24ca6425a"
      },
      "outputs": [
        {
          "name": "stdout",
          "output_type": "stream",
          "text": [
            "Before Sorting : [90, 15, 10, 40, 45]\n",
            "After Sorting : [10, 15, 40, 45, 90]\n"
          ]
        }
      ],
      "source": [
        "def insertionSort(array):\n",
        "    for step in range(1, len(array)):\n",
        "        key = array[step]\n",
        "        j = step - 1\n",
        "        \n",
        "        # Compare key with each element on the left of it until an element smaller than it is found\n",
        "        # For descending order, change key<array[j] to key>array[j].        \n",
        "        while j >= 0 and key < array[j]:\n",
        "            array[j + 1] = array[j]\n",
        "            j = j - 1\n",
        "        # Place key at after the element just smaller than it.\n",
        "        array[j + 1] = key\n",
        "List = [90, 15, 10, 40, 45]\n",
        "print (f\"Before Sorting : {List}\")\n",
        "insertionSort(List)\n",
        "print (f\"After Sorting : {List}\")"
      ]
    },
    {
      "cell_type": "markdown",
      "id": "22c4b73b",
      "metadata": {
        "id": "22c4b73b"
      },
      "source": [
        "#### Time Complexity : O(n²)\n",
        "#### Space Complexity : O(1)"
      ]
    },
    {
      "cell_type": "markdown",
      "id": "003bebfb",
      "metadata": {
        "id": "003bebfb"
      },
      "source": [
        "#### 12 - GCD "
      ]
    },
    {
      "cell_type": "code",
      "execution_count": null,
      "id": "ecc7c598",
      "metadata": {
        "id": "ecc7c598",
        "outputId": "df567fd6-954f-40c1-b00c-25d286722331"
      },
      "outputs": [
        {
          "name": "stdout",
          "output_type": "stream",
          "text": [
            "please enter 1st number : 128\n",
            "please enter 2nd number : 256\n",
            "The gcd of 128 and 256 is 128\n"
          ]
        }
      ],
      "source": [
        "def computeGCD(x, y):\n",
        "    while(y):\n",
        "        x, y = y, x % y\n",
        "    return x\n",
        "a = int(input(\"please enter 1st number : \"))\n",
        "b = int(input(\"please enter 2nd number : \"))\n",
        "print (f\"The gcd of {a} and {b} is {computeGCD(a,b)}\")"
      ]
    },
    {
      "cell_type": "markdown",
      "id": "cced3016",
      "metadata": {
        "id": "cced3016"
      },
      "source": [
        "#### Time Complexity : O(Log(n))\n",
        "#### Space : O(1)"
      ]
    },
    {
      "cell_type": "markdown",
      "id": "aeaaf354",
      "metadata": {
        "id": "aeaaf354"
      },
      "source": [
        "#### 13 - Selection sort"
      ]
    },
    {
      "cell_type": "code",
      "execution_count": null,
      "id": "0fe6c027",
      "metadata": {
        "id": "0fe6c027",
        "outputId": "2cbfe1a3-3888-4a79-8974-8e921836b927"
      },
      "outputs": [
        {
          "name": "stdout",
          "output_type": "stream",
          "text": [
            "Sorted Array in Ascending Order:\n",
            "[-9, -2, 5, 40, 110]\n"
          ]
        }
      ],
      "source": [
        "def selectionSort(array, size):\n",
        "    for step in range(size):\n",
        "        min_idx = step\n",
        "        for i in range(step + 1, size):\n",
        "            # to sort in descending order, change > to < in this line\n",
        "            # select the minimum element in each loop\n",
        "            if array[i] < array[min_idx]:\n",
        "                min_idx = i\n",
        "         \n",
        "        # put min at the correct position\n",
        "        (array[step], array[min_idx]) = (array[min_idx], array[step])\n",
        "\n",
        "data = [-2, 5, 40, 110, -9]\n",
        "size = len(data)\n",
        "selectionSort(data, size)\n",
        "print('Sorted Array in Ascending Order:')\n",
        "print(data)"
      ]
    },
    {
      "cell_type": "markdown",
      "id": "feb83558",
      "metadata": {
        "id": "feb83558"
      },
      "source": [
        "#### Time Complexity : O(n²)"
      ]
    },
    {
      "cell_type": "code",
      "execution_count": null,
      "id": "bc2dbca9",
      "metadata": {
        "id": "bc2dbca9"
      },
      "outputs": [],
      "source": [
        ""
      ]
    },
    {
      "cell_type": "code",
      "execution_count": null,
      "id": "7a39b54d",
      "metadata": {
        "id": "7a39b54d"
      },
      "outputs": [],
      "source": [
        ""
      ]
    }
  ],
  "metadata": {
    "kernelspec": {
      "display_name": "Python 3 (ipykernel)",
      "language": "python",
      "name": "python3"
    },
    "language_info": {
      "codemirror_mode": {
        "name": "ipython",
        "version": 3
      },
      "file_extension": ".py",
      "mimetype": "text/x-python",
      "name": "python",
      "nbconvert_exporter": "python",
      "pygments_lexer": "ipython3",
      "version": "3.9.7"
    },
    "colab": {
      "name": "Training on time complexiy.ipynb",
      "provenance": [],
      "include_colab_link": true
    }
  },
  "nbformat": 4,
  "nbformat_minor": 5
}