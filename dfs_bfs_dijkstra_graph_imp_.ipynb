{
  "cells": [
    {
      "cell_type": "markdown",
      "metadata": {
        "id": "view-in-github",
        "colab_type": "text"
      },
      "source": [
        "<a href=\"https://colab.research.google.com/github/Nader-Khalil/Algorithms_Implmentation/blob/main/dfs_bfs_dijkstra_graph_imp_.ipynb\" target=\"_parent\"><img src=\"https://colab.research.google.com/assets/colab-badge.svg\" alt=\"Open In Colab\"/></a>"
      ]
    },
    {
      "cell_type": "markdown",
      "id": "2f394925",
      "metadata": {
        "id": "2f394925"
      },
      "source": [
        "### Author :Nader Mohamed Khalil"
      ]
    },
    {
      "cell_type": "code",
      "execution_count": null,
      "id": "3c8b2919",
      "metadata": {
        "id": "3c8b2919",
        "outputId": "f4f3b707-5d18-4d3b-cc86-5ffc077453fa"
      },
      "outputs": [
        {
          "name": "stdout",
          "output_type": "stream",
          "text": [
            "Vertex 0: -> 1 -> 3 -> 8 \n",
            "\n",
            "Vertex 1: -> 7 -> 0 \n",
            "\n",
            "Vertex 2: -> 5 -> 3 -> 7 \n",
            "\n",
            "Vertex 3: -> 4 -> 2 -> 0 \n",
            "\n",
            "Vertex 4: -> 8 -> 3 \n",
            "\n",
            "Vertex 5: -> 6 -> 2 \n",
            "\n",
            "Vertex 6: -> 5 \n",
            "\n",
            "Vertex 7: -> 2 -> 1 \n",
            "\n",
            "Vertex 8: -> 4 -> 0 \n",
            "\n"
          ]
        }
      ],
      "source": [
        "# Adjascency List representation in Python\n",
        "class AdjNode:\n",
        "    def __init__(self, value):\n",
        "        self.vertex = value\n",
        "        self.next = None\n",
        "\n",
        "\n",
        "class Graph:\n",
        "    def __init__(self, num):\n",
        "        self.V = num\n",
        "        self.graph = [None] * self.V\n",
        "\n",
        "    # Add edges\n",
        "    def add_edge(self, s, d):\n",
        "        node = AdjNode(d)\n",
        "        node.next = self.graph[s]\n",
        "#         print(f\"node.next = {node.next}\")\n",
        "        self.graph[s] = node\n",
        "\n",
        "        node = AdjNode(s)\n",
        "        node.next = self.graph[d]\n",
        "#         print(f\"node.next = {node.next}\")\n",
        "        self.graph[d] = node\n",
        "\n",
        "    # Print the graph\n",
        "    def print_agraph(self):\n",
        "        for i in range(self.V):\n",
        "            print(\"Vertex \" + str(i) + \":\", end=\"\")\n",
        "            temp = self.graph[i]\n",
        "            while temp:\n",
        "                print(\" -> {}\".format(temp.vertex), end=\"\")\n",
        "                temp = temp.next\n",
        "            print(\" \\n\")\n",
        "# the number of vertex in the graph\n",
        "v = 9\n",
        "\n",
        "#create a new graph\n",
        "graph = Graph(v)\n",
        "# print(graph.graph)\n",
        "# create edges and nodes for the graph\n",
        "graph.add_edge(0,8)\n",
        "graph.add_edge(0,3)\n",
        "graph.add_edge(0,1)\n",
        "graph.add_edge(1,7)\n",
        "graph.add_edge(7,2)\n",
        "graph.add_edge(2,3)\n",
        "graph.add_edge(2,5)\n",
        "graph.add_edge(3,4)\n",
        "graph.add_edge(8,4)\n",
        "graph.add_edge(5,6)\n",
        "graph.print_agraph()"
      ]
    },
    {
      "cell_type": "code",
      "execution_count": null,
      "id": "dd35cdd6",
      "metadata": {
        "id": "dd35cdd6",
        "outputId": "4ed32340-e07d-4c1e-dbae-bd4082ade81a"
      },
      "outputs": [
        {
          "name": "stdout",
          "output_type": "stream",
          "text": [
            "dfs is \n",
            "0 8 4 3 2 5 6 7 1 3 1 "
          ]
        }
      ],
      "source": [
        "#dfs\n",
        "#time complexity O(V+E) \n",
        "#space complexity O(V)\n",
        "def dfs(graph, start, visited=None):\n",
        "    if visited is None:\n",
        "        visited = set()\n",
        "    visited.add(start)\n",
        "\n",
        "    print(start,end=\" \")\n",
        "\n",
        "    for next in graph[start] - visited:\n",
        "        dfs(graph, next, visited)\n",
        "\n",
        "graph = {'0': set(['1', '3', '8']),\n",
        "         '1': set(['0', '7']),\n",
        "         '2': set(['3','5','7']),\n",
        "         '3': set(['0','2','4']),\n",
        "         '4': set(['3', '8']),\n",
        "         '5': set(['2', '6']),\n",
        "         '6': set(['5']),\n",
        "         '7': set(['1', '2']),\n",
        "         '8': set(['0', '4'])}\n",
        "print(\"dfs from source zero  is \")\n",
        "dfs(graph, '0')"
      ]
    },
    {
      "cell_type": "code",
      "execution_count": null,
      "id": "7ecd6408",
      "metadata": {
        "id": "7ecd6408",
        "outputId": "be28aa96-6bc2-46a3-fd9e-ff71c958332a"
      },
      "outputs": [
        {
          "name": "stdout",
          "output_type": "stream",
          "text": [
            "Following is Breadth First Traversal: \n",
            "0 1 3 8 7 2 4 5 6 "
          ]
        }
      ],
      "source": [
        "#bfs\n",
        "#time complexity O(V+E) \n",
        "#space complexity O(V)\n",
        "import collections\n",
        "\n",
        "\n",
        "import collections\n",
        "\n",
        "# BFS algorithm\n",
        "def bfs(graph, root):\n",
        "\n",
        "    visited, queue = set(), collections.deque([root])\n",
        "    visited.add(root)\n",
        "\n",
        "    while queue:\n",
        "\n",
        "        # Dequeue a vertex from queue\n",
        "        vertex = queue.popleft()\n",
        "        print(str(vertex) + \" \", end=\"\")\n",
        "\n",
        "        # If not visited, mark it as visited, and\n",
        "        # enqueue it\n",
        "        for neighbour in graph[vertex]:\n",
        "            if neighbour not in visited:\n",
        "                visited.add(neighbour)\n",
        "                queue.append(neighbour)\n",
        "\n",
        "\n",
        "graph = {0: [1, 3, 8],\n",
        "         1: [0, 7],\n",
        "         2: [3,5,7],\n",
        "         3: [0,2,4],\n",
        "         4: [3, 8],\n",
        "         5: [2, 6],\n",
        "         6: [5],\n",
        "         7: [1, 2],\n",
        "         8: [0, 4]}\n",
        "print(\"Following is Breadth First Traversal: \")\n",
        "bfs(graph, 0)\n"
      ]
    },
    {
      "cell_type": "code",
      "execution_count": null,
      "id": "85e9302f",
      "metadata": {
        "id": "85e9302f"
      },
      "outputs": [],
      "source": [
        ""
      ]
    },
    {
      "cell_type": "code",
      "execution_count": null,
      "id": "c5fde165",
      "metadata": {
        "id": "c5fde165",
        "outputId": "429f4559-cccf-4ca5-8636-c72c6d446368"
      },
      "outputs": [
        {
          "name": "stdout",
          "output_type": "stream",
          "text": [
            "D = {0: inf, 1: inf, 2: inf, 3: inf, 4: inf, 5: inf, 6: inf, 7: inf, 8: inf}\n",
            "D = {0: 0, 1: inf, 2: inf, 3: inf, 4: inf, 5: inf, 6: inf, 7: inf, 8: inf}\n",
            "distenation is 0, current_vertex is 0\n",
            "D = {0: 0, 1: 8, 2: 9, 3: inf, 4: inf, 5: inf, 6: inf, 7: inf, 8: inf}\n",
            "distenation is 8, current_vertex is 1\n",
            "D = {0: 0, 1: 8, 2: 9, 3: 9, 4: inf, 5: 15, 6: 17, 7: inf, 8: inf}\n",
            "distenation is 9, current_vertex is 2\n",
            "D = {0: 0, 1: 8, 2: 9, 3: 9, 4: inf, 5: 15, 6: 13, 7: inf, 8: inf}\n",
            "distenation is 9, current_vertex is 3\n",
            "D = {0: 0, 1: 8, 2: 9, 3: 9, 4: inf, 5: 15, 6: 13, 7: 13, 8: inf}\n",
            "distenation is 13, current_vertex is 6\n",
            "D = {0: 0, 1: 8, 2: 9, 3: 9, 4: 20, 5: 15, 6: 13, 7: 13, 8: inf}\n",
            "distenation is 13, current_vertex is 7\n",
            "D = {0: 0, 1: 8, 2: 9, 3: 9, 4: 20, 5: 15, 6: 13, 7: 13, 8: inf}\n",
            "distenation is 15, current_vertex is 5\n",
            "D = {0: 0, 1: 8, 2: 9, 3: 9, 4: 20, 5: 15, 6: 13, 7: 13, 8: inf}\n",
            "distenation is 17, current_vertex is 6\n",
            "D = {0: 0, 1: 8, 2: 9, 3: 9, 4: 20, 5: 15, 6: 13, 7: 13, 8: inf}\n",
            "distenation is 20, current_vertex is 4\n",
            "{0: 0, 1: 8, 2: 9, 3: 9, 4: 20, 5: 15, 6: 13, 7: 13, 8: inf}\n"
          ]
        }
      ],
      "source": [
        "# Dijkstra's Algorithm in Python\n",
        "#time complexity O(E Log V) \n",
        "#space complexity O(V)\n",
        "from queue import PriorityQueue\n",
        "class Graph:\n",
        "    def __init__(self, num_of_vertices):\n",
        "        self.v = num_of_vertices\n",
        "        self.edges = [[-1 for i in range(num_of_vertices)] for j in range(num_of_vertices)]\n",
        "        self.visited = []\n",
        "    def add_edge(self, u, v, weight):\n",
        "        self.edges[u][v] = weight\n",
        "        self.edges[v][u] = weight\n",
        "\n",
        "def dijkstra(graph, start_vertex):\n",
        "    D = {v:float('inf') for v in range(graph.v)}\n",
        "    print(f\"D = {D}\")\n",
        "    D[start_vertex] = 0\n",
        "    \n",
        "    pq = PriorityQueue()\n",
        "    pq.put((0, start_vertex))\n",
        "    \n",
        "    while not pq.empty():\n",
        "        print(f\"D = {D}\")\n",
        "        (dist, current_vertex) = pq.get()\n",
        "        print(f\"distenation is {dist}, current_vertex is {current_vertex}\")\n",
        "        graph.visited.append(current_vertex)\n",
        "\n",
        "        for neighbor in range(graph.v):\n",
        "\n",
        "            if graph.edges[current_vertex][neighbor] != -1:\n",
        "                distance = graph.edges[current_vertex][neighbor]\n",
        "                if neighbor not in graph.visited:\n",
        "                    old_cost = D[neighbor]\n",
        "                    new_cost = D[current_vertex] + distance\n",
        "                    if new_cost < old_cost:\n",
        "                        pq.put((new_cost, neighbor))\n",
        "                        D[neighbor] = new_cost\n",
        "    return D\n",
        "g = Graph(9)\n",
        "g.add_edge(0, 1, 8)\n",
        "g.add_edge(0, 2, 9)\n",
        "g.add_edge(1, 3, 1)\n",
        "g.add_edge(1, 5, 7)\n",
        "g.add_edge(1, 6, 9)\n",
        "g.add_edge(2, 5, 6)\n",
        "g.add_edge(2, 6, 4)\n",
        "g.add_edge(3, 7, 4)\n",
        "g.add_edge(7, 4, 7)\n",
        "g.add_edge(6, 7, 6)\n",
        "g.add_edge(5, 7, 2)\n",
        "g.add_edge(4, 6, 7)\n",
        "D = dijkstra(g, 0)\n",
        "print(D)"
      ]
    },
    {
      "cell_type": "code",
      "execution_count": null,
      "id": "3c938cd4",
      "metadata": {
        "id": "3c938cd4"
      },
      "outputs": [],
      "source": [
        ""
      ]
    }
  ],
  "metadata": {
    "kernelspec": {
      "display_name": "Python 3 (ipykernel)",
      "language": "python",
      "name": "python3"
    },
    "language_info": {
      "codemirror_mode": {
        "name": "ipython",
        "version": 3
      },
      "file_extension": ".py",
      "mimetype": "text/x-python",
      "name": "python",
      "nbconvert_exporter": "python",
      "pygments_lexer": "ipython3",
      "version": "3.9.7"
    },
    "colab": {
      "name": "dfs_bfs_dijkstra_graph_imp .ipynb",
      "provenance": [],
      "include_colab_link": true
    }
  },
  "nbformat": 4,
  "nbformat_minor": 5
}