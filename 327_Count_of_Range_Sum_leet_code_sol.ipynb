{
  "nbformat": 4,
  "nbformat_minor": 0,
  "metadata": {
    "colab": {
      "name": "327. Count of Range Sum_leet_code_sol.ipynb",
      "provenance": [],
      "authorship_tag": "ABX9TyO+UoYWcevdDn0GgVAoQXZS",
      "include_colab_link": true
    },
    "kernelspec": {
      "name": "python3",
      "display_name": "Python 3"
    },
    "language_info": {
      "name": "python"
    }
  },
  "cells": [
    {
      "cell_type": "markdown",
      "metadata": {
        "id": "view-in-github",
        "colab_type": "text"
      },
      "source": [
        "<a href=\"https://colab.research.google.com/github/Nader-Khalil/Algorithms_Implmentation/blob/main/327_Count_of_Range_Sum_leet_code_sol.ipynb\" target=\"_parent\"><img src=\"https://colab.research.google.com/assets/colab-badge.svg\" alt=\"Open In Colab\"/></a>"
      ]
    },
    {
      "cell_type": "code",
      "execution_count": null,
      "metadata": {
        "id": "jeK0vtHFgxw4"
      },
      "outputs": [],
      "source": [
        "class Solution:\n",
        "    def countRangeSum(self, nums: List[int], lower: int, upper: int) -> int:\n",
        "        def find(l,r):\n",
        "            if l > r:\n",
        "                return 0\n",
        "            m = (l+r)//2\n",
        "            left = [0]\n",
        "            s = 0\n",
        "            for i in range(m-1,l-1,-1):\n",
        "                s += nums[i]\n",
        "                left.append(s)\n",
        "            right = [0]\n",
        "            s = 0\n",
        "            for i in range(m+1,r+1):\n",
        "                s += nums[i]\n",
        "                right.append(s)\n",
        "            right.sort()\n",
        "            ans = 0\n",
        "            for i in left:\n",
        "                ans += (bisect.bisect_right(right,upper-i-nums[m]) - bisect.bisect_left(right,lower-i-nums[m]))\n",
        "            return ans + find(l,m-1)+find(m+1,r)\n",
        "        return find(0, len(nums)-1)"
      ]
    }
  ]
}