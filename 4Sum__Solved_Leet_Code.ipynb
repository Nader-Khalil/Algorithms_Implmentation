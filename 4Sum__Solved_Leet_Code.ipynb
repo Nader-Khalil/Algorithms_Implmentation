{
  "nbformat": 4,
  "nbformat_minor": 0,
  "metadata": {
    "colab": {
      "name": "4Sum _Solved_Leet_Code.ipynb",
      "provenance": [],
      "authorship_tag": "ABX9TyNp7U90enKuNNDvCDl5dquH",
      "include_colab_link": true
    },
    "kernelspec": {
      "name": "python3",
      "display_name": "Python 3"
    },
    "language_info": {
      "name": "python"
    }
  },
  "cells": [
    {
      "cell_type": "markdown",
      "metadata": {
        "id": "view-in-github",
        "colab_type": "text"
      },
      "source": [
        "<a href=\"https://colab.research.google.com/github/Nader-Khalil/Algorithms_Implmentation/blob/main/4Sum__Solved_Leet_Code.ipynb\" target=\"_parent\"><img src=\"https://colab.research.google.com/assets/colab-badge.svg\" alt=\"Open In Colab\"/></a>"
      ]
    },
    {
      "cell_type": "code",
      "execution_count": null,
      "metadata": {
        "id": "ZUtvvgPfekLz"
      },
      "outputs": [],
      "source": [
        "class Solution:\n",
        "    def fourSum(self, nums: List[int], target: int) -> List[List[int]]:\n",
        "        if len(nums)<=3:\n",
        "            return []\n",
        "        nums = sorted(nums)\n",
        "        res = []\n",
        "        n = len(nums)\n",
        "        \n",
        "        for i in range(0,n-3):\n",
        "            for j in range(i+1,n-2):\n",
        "                Max=nums[i]+nums[j]+nums[-2]+nums[-1]\n",
        "                Min=nums[i]+nums[j]+nums[j+1]+nums[j+2]\n",
        "                if not Min<=target<=Max:\n",
        "                    continue\n",
        "                L=j+1\n",
        "                R=n-1\n",
        "                while L<R :\n",
        "                    Sum=nums[i]+nums[j]+nums[L]+nums[R]\n",
        "                    if Sum < target :\n",
        "                        L+=1\n",
        "                    elif Sum>target :\n",
        "                        R-=1\n",
        "                    else:\n",
        "                        if not [nums[i],nums[j],nums[L],nums[R]] in res:\n",
        "                            res.append([nums[i],nums[j],nums[L],nums[R]])\n",
        "                        L+=1\n",
        "                        R-=1\n",
        "                        \n",
        "        return res"
      ]
    }
  ]
}