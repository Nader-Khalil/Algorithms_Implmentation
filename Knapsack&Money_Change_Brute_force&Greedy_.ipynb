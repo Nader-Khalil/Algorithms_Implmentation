{
  "cells": [
    {
      "cell_type": "markdown",
      "metadata": {
        "id": "view-in-github",
        "colab_type": "text"
      },
      "source": [
        "<a href=\"https://colab.research.google.com/github/Nader-Khalil/Algorithms_Implmentation/blob/main/Knapsack%26Money_Change_Brute_force%26Greedy_.ipynb\" target=\"_parent\"><img src=\"https://colab.research.google.com/assets/colab-badge.svg\" alt=\"Open In Colab\"/></a>"
      ]
    },
    {
      "cell_type": "markdown",
      "id": "fa0ad2fa",
      "metadata": {
        "id": "fa0ad2fa"
      },
      "source": [
        "### Name : Nader Mohamed Khalil"
      ]
    },
    {
      "cell_type": "markdown",
      "id": "81b2dcf6",
      "metadata": {
        "id": "81b2dcf6"
      },
      "source": [
        "#### 1- 0 / 1 Knapsack      # Brute-force approach"
      ]
    },
    {
      "cell_type": "markdown",
      "id": "e9bcc1e3",
      "metadata": {
        "id": "e9bcc1e3"
      },
      "source": [
        "#### This is the Optimal Solution .\n",
        "#### Time Complexity: O(2^n). "
      ]
    },
    {
      "cell_type": "code",
      "execution_count": null,
      "id": "59a58ece",
      "metadata": {
        "id": "59a58ece",
        "outputId": "90ed6a64-7fb0-48cb-a22b-bbf40b4c9cbc"
      },
      "outputs": [
        {
          "name": "stdout",
          "output_type": "stream",
          "text": [
            "220\n"
          ]
        }
      ],
      "source": [
        "#Returns the maximum value that can be stored by the bag\n",
        "def knapSack(W, wt, val, n):\n",
        "   # initial conditions\n",
        "   if n == 0 or W == 0 :\n",
        "      return 0\n",
        "   # If weight is higher than capacity then it is not included\n",
        "   if (wt[n-1] > W):\n",
        "      return knapSack(W, wt, val, n-1)\n",
        "   # return either nth item being included or not\n",
        "   else:\n",
        "      return max(val[n-1] + knapSack(W-wt[n-1], wt, val, n-1),knapSack(W, wt, val, n-1))\n",
        "#  * Draft for myself to remember  xD\n",
        "# *>>   يقوم بارجاع كل مرة ااخر قيمة من الاخر مجموعا عليهاا ناتج استدعااء الدالة مرة ااخرى .. وسبب ااستخدام\n",
        "# داالة max حتى يمكن تجميع اكثر قيمة ممكنة في حالة عدم ترتيب الاوزاان ليصل اافضل نتيجة .. \n",
        "#-----------------------\n",
        "\n",
        "# To test above function\n",
        "val = [60,100,120]\n",
        "wt = [10,20,30]\n",
        "W = 50\n",
        "n = len(val)\n",
        "print (knapSack(W, wt, val, n))"
      ]
    },
    {
      "cell_type": "markdown",
      "id": "319ca26e",
      "metadata": {
        "id": "319ca26e"
      },
      "source": [
        "#### 1- 0 / 1 Knapsack      # Greedy method \n",
        "\n",
        "\n",
        "#### This is  NOT the Optimal Solution .\n",
        "#### Time Complexity: O(nLogn). "
      ]
    },
    {
      "cell_type": "code",
      "execution_count": null,
      "id": "df263ee2",
      "metadata": {
        "id": "df263ee2",
        "outputId": "7d284483-12d3-4900-8d1b-0108a7b414bf"
      },
      "outputs": [
        {
          "name": "stdout",
          "output_type": "stream",
          "text": [
            "160\n"
          ]
        }
      ],
      "source": [
        "def knapSack_Greedy(W, wt, val,n):\n",
        "    sol =0\n",
        "    if n == 0 or W == 0 :\n",
        "        return 0\n",
        "    else:\n",
        "        wt.sort(reverse=True)\n",
        "        for i in range(len(val)):\n",
        "            if wt[i] <= W :\n",
        "                sol += val[i]\n",
        "                W -= int(wt[i])\n",
        "        return sol\n",
        "#########################\n",
        "val = [60,100,120]\n",
        "wt = [10,20,30]\n",
        "W = 50\n",
        "n = len(val)\n",
        "print (knapSack_Greedy(W, wt, val, n))\n",
        "   "
      ]
    },
    {
      "cell_type": "code",
      "execution_count": null,
      "id": "b5edbae7",
      "metadata": {
        "id": "b5edbae7"
      },
      "outputs": [],
      "source": [
        "# This answer With another thinking >> last answer Can perfcectly reach best value for the knapsack \n",
        "# but >> it can't be determine which of the wieght pices we picked \n",
        "# thats way after the sorting process not the same sequence between ( wt , val ) lists >>\n",
        "# to conquer this the only structure that help should be Obj from class \n"
      ]
    },
    {
      "cell_type": "code",
      "execution_count": null,
      "id": "e0260780",
      "metadata": {
        "id": "e0260780"
      },
      "outputs": [],
      "source": [
        "class KnapsackPackage(object): \n",
        "    def __init__(self, weight, value): \n",
        "        self.weight = weight \n",
        "        self.value = value \n",
        "        self.cost = value / weight \n",
        "   \n",
        "    def __lt__(self, other): \n",
        "        return self.cost < other.cost\n",
        "\n",
        "    # Draft for myself >>> الكلاس كله .. بنسبة لي ك ستراكشر يربط كل االداتا ببعضهاا\n",
        "    # this class to enable me to make object as i should store wight and value of each item realted to each other \n",
        "    # so Class Obj is the best fit structure to do this . also this helps at the sort process . \n",
        "\n",
        "  #### This the function i will use   ( نفس االسابقة ولكن االاااعتماد على الكلااس)\n",
        "def knapSack_Greedy_2(W, wt, val,n):\n",
        "    sol =0\n",
        "    packs = []\n",
        "    for i in range(n): \n",
        "        packs.append(KnapsackPackage(wt[i],val[i]))\n",
        "\n",
        "    packs.sort(reverse = True)     \n",
        "\n",
        "    if n == 0 or W == 0 :\n",
        "        return 0\n",
        "    else:\n",
        "        for i in range(len(val)):\n",
        "            if packs[i].weight <= W :\n",
        "                sol += packs[i].value\n",
        "                W -= int(packs[i].weight)\n",
        "        return sol\n"
      ]
    },
    {
      "cell_type": "code",
      "execution_count": null,
      "id": "07f95020",
      "metadata": {
        "id": "07f95020",
        "outputId": "8552968d-2d03-4af4-b19f-f45e5837bae1"
      },
      "outputs": [
        {
          "name": "stdout",
          "output_type": "stream",
          "text": [
            " Max Value : 160\n"
          ]
        }
      ],
      "source": [
        "val = [60,100,120]\n",
        "wt = [10,20,30]\n",
        "W = 50\n",
        "n = len(val)\n",
        "print (f\" Max Value : {knapSack_Greedy_2(W,wt,val, n)}\")\n"
      ]
    },
    {
      "cell_type": "markdown",
      "id": "0af76d96",
      "metadata": {
        "id": "0af76d96"
      },
      "source": [
        "#### 2- Fraction Knapsack      # Greedy method \n",
        "\n",
        "\n",
        "#### This is the Optimal Solution .\n",
        "#### Time Complexity: O(nLogn). "
      ]
    },
    {
      "cell_type": "code",
      "execution_count": null,
      "id": "d9d60055",
      "metadata": {
        "id": "d9d60055"
      },
      "outputs": [],
      "source": [
        ""
      ]
    },
    {
      "cell_type": "code",
      "execution_count": null,
      "id": "271481e3",
      "metadata": {
        "id": "271481e3"
      },
      "outputs": [],
      "source": [
        "class KnapsackPackage(object): \n",
        "    def __init__(self, weight, value): \n",
        "        self.weight = weight \n",
        "        self.value = value \n",
        "        self.cost = value / weight \n",
        "   \n",
        "    def __lt__(self, other): \n",
        "        return self.cost < other.cost\n",
        "\n",
        "    # Draft for myself >>> الكلاس كله .. بنسبة لي ك ستراكشر يربط كل االداتا ببعضهاا\n",
        "    # this class to enable me to make object as i should store wight and value of each item realted to each other \n",
        "    # so Class Obj is the best fit structure to do this . also this helps at the sort process . "
      ]
    },
    {
      "cell_type": "code",
      "execution_count": null,
      "id": "d461735f",
      "metadata": {
        "id": "d461735f",
        "outputId": "1583cedd-09f8-43c3-e0d3-873dd08afc3a"
      },
      "outputs": [
        {
          "name": "stdout",
          "output_type": "stream",
          "text": [
            " Max Value : 300\n"
          ]
        }
      ],
      "source": [
        "def knapsackGreedyFrac(W, V, M, n):\n",
        "    \n",
        "    packs = []\n",
        "    for i in range(n): \n",
        "        packs.append(KnapsackPackage(W[i],V[i]))\n",
        "\n",
        "    packs.sort(reverse = True)     \n",
        "    remain = M\n",
        "    result = 0\n",
        "         \n",
        "    i = 0\n",
        "    stopProc = False\n",
        "         \n",
        "    while (stopProc != True):\n",
        "        if (packs[i].weight <= remain):\n",
        "            remain -= packs[i].weight\n",
        "            result += packs[i].value\n",
        "                 \n",
        "             \n",
        "        if (packs[i].weight > remain):\n",
        "            i += 1\n",
        "                 \n",
        "        if (i == n):\n",
        "            stopProc = True           \n",
        "         \n",
        "    return result\n",
        "###############################################3\n",
        "val = [60,100,120]\n",
        "wt = [10,20,30]\n",
        "W = 50\n",
        "n = len(val)\n",
        "print (f\" Max Value : {knapsackGreedyFrac(wt,val,W, n)}\")\n",
        "   "
      ]
    },
    {
      "cell_type": "code",
      "execution_count": null,
      "id": "3287ea1c",
      "metadata": {
        "id": "3287ea1c"
      },
      "outputs": [],
      "source": [
        ""
      ]
    },
    {
      "cell_type": "markdown",
      "id": "95a6f84f",
      "metadata": {
        "id": "95a6f84f"
      },
      "source": [
        "#### 2- money change problem    # Greedy method \n",
        "\n",
        "\n",
        "#### This is the Optimal Solution >>> only for money with abilit to get divide by each other Like ( Egyption mone) .\n",
        "#### Time Complexity: O(n). "
      ]
    },
    {
      "cell_type": "code",
      "execution_count": null,
      "id": "99667cf3",
      "metadata": {
        "id": "99667cf3"
      },
      "outputs": [],
      "source": [
        "def findMin(V):     \n",
        "    # All denominations of EGYPTION Currency\n",
        "    deno = [1,5,10,20,50,100,200]\n",
        "    n = len(deno)\n",
        "      \n",
        "    # Initialize Result\n",
        "    ans = []\n",
        "  \n",
        "    # Traverse through all denomination\n",
        "    i = n - 1\n",
        "    while(i >= 0):      \n",
        "        # Find denominations\n",
        "        while (V >= deno[i]):\n",
        "            V -= deno[i]\n",
        "            ans.append(deno[i])\n",
        "  \n",
        "        i -= 1\n",
        "  \n",
        "    # Print result\n",
        "    for i in range(len(ans)):\n",
        "        print(ans[i], end = \" \")\n",
        "  \n"
      ]
    },
    {
      "cell_type": "code",
      "execution_count": null,
      "id": "06917154",
      "metadata": {
        "id": "06917154",
        "outputId": "5a1a3bc3-d1ec-4814-c793-5d9c8d5b51a8"
      },
      "outputs": [
        {
          "name": "stdout",
          "output_type": "stream",
          "text": [
            "Following is minimal number of change for 275 :  = \n",
            "200 50 20 5 "
          ]
        }
      ],
      "source": [
        "###########################################\n",
        "n = 275\n",
        "print(f\"Following is minimal number of change for {n} :  = \")\n",
        "findMin(n)"
      ]
    },
    {
      "cell_type": "markdown",
      "id": "dfb5096b",
      "metadata": {
        "id": "dfb5096b"
      },
      "source": [
        "### The brute force (optimal only for non-egyption money )"
      ]
    },
    {
      "cell_type": "code",
      "execution_count": null,
      "id": "fb472c74",
      "metadata": {
        "id": "fb472c74",
        "outputId": "460af993-5817-4c32-8dc9-0ba72bc6e252"
      },
      "outputs": [
        {
          "name": "stdout",
          "output_type": "stream",
          "text": [
            "Following is minimal number of change for [15, 15, 15, 15, 15, 15, 1, 1, 1]\n"
          ]
        }
      ],
      "source": [
        "denomination_list = [1,15,10]\n",
        "denomination_list.sort(reverse = True)\n",
        "\n",
        "# Ensure ones are available for change (or infinite loop may result)\n",
        "if denomination_list[-1] != 1:\n",
        "    denomination_list.append(1)\n",
        "\n",
        "def make_change(denomination_list, amount):\n",
        "    change = []\n",
        "    # Iterate through coins\n",
        "    for coin in denomination_list:\n",
        "        # Add current coin as long as not exceeding ampoiunt\n",
        "        while amount:\n",
        "            if coin <= amount:\n",
        "                change.append(coin)\n",
        "                amount -= coin\n",
        "            else:\n",
        "                break\n",
        "    return change\n",
        "\n",
        "amount= 93\n",
        "\n",
        "\n",
        "print(f\"Following is minimal number of change for {make_change(denomination_list, amount)}\")"
      ]
    },
    {
      "cell_type": "code",
      "execution_count": null,
      "id": "977d83ec",
      "metadata": {
        "id": "977d83ec",
        "outputId": "851ba6ee-984a-4d84-bec3-9a4c2be6638c"
      },
      "outputs": [
        {
          "data": {
            "text/plain": [
              "(2, [[5, 25]])"
            ]
          },
          "execution_count": 18,
          "metadata": {},
          "output_type": "execute_result"
        }
      ],
      "source": [
        "# in Brute force answer , this is optimal to non-Egyption money \n",
        "\n",
        "def MoneyChange_BruteForce(V,Arr):\n",
        "    if V == 0:\n",
        "        return 0,[[]]    \n",
        "    if V < 0:\n",
        "        return 0, []    \n",
        "    else:\n",
        "        all_combinations = []\n",
        "        for i in Arr:\n",
        "            _ ,result = MoneyChange_BruteForce(V-i,Arr)\n",
        "            \n",
        "            for combo in result:\n",
        "                combo.append(i)\n",
        "            all_combinations.extend(result)\n",
        "    return len(min(all_combinations,key=len)), [min(all_combinations,key=len)]\n",
        "\n",
        "coins = [25,10,5]\n",
        "amount = 30\n",
        "MoneyChange_BruteForce(amount,coins)"
      ]
    },
    {
      "cell_type": "code",
      "execution_count": null,
      "id": "e28c5f11",
      "metadata": {
        "id": "e28c5f11"
      },
      "outputs": [],
      "source": [
        "\n",
        "    \n",
        "    "
      ]
    }
  ],
  "metadata": {
    "kernelspec": {
      "display_name": "Python 3 (ipykernel)",
      "language": "python",
      "name": "python3"
    },
    "language_info": {
      "codemirror_mode": {
        "name": "ipython",
        "version": 3
      },
      "file_extension": ".py",
      "mimetype": "text/x-python",
      "name": "python",
      "nbconvert_exporter": "python",
      "pygments_lexer": "ipython3",
      "version": "3.9.7"
    },
    "colab": {
      "name": "Knapsack&Money_Change_Brute-force&Greedy_.ipynb",
      "provenance": [],
      "include_colab_link": true
    }
  },
  "nbformat": 4,
  "nbformat_minor": 5
}