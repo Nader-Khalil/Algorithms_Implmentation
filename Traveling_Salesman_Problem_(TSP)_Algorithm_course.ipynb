{
  "cells": [
    {
      "cell_type": "markdown",
      "metadata": {
        "id": "view-in-github",
        "colab_type": "text"
      },
      "source": [
        "<a href=\"https://colab.research.google.com/github/Nader-Khalil/Algorithms_Implmentation/blob/main/Traveling_Salesman_Problem_(TSP)_Algorithm_course.ipynb\" target=\"_parent\"><img src=\"https://colab.research.google.com/assets/colab-badge.svg\" alt=\"Open In Colab\"/></a>"
      ]
    },
    {
      "cell_type": "markdown",
      "id": "50dfbd4a",
      "metadata": {
        "id": "50dfbd4a"
      },
      "source": [
        ""
      ]
    },
    {
      "cell_type": "markdown",
      "id": "614e3864",
      "metadata": {
        "id": "614e3864"
      },
      "source": [
        "### Traveling Salesman Problem (TSP) >> brute force approach "
      ]
    },
    {
      "cell_type": "markdown",
      "id": "ff59865d",
      "metadata": {
        "id": "ff59865d"
      },
      "source": [
        "## The problem is a famous NP-hard problem. There is no polynomial-time known solution for this problem. "
      ]
    },
    {
      "cell_type": "code",
      "execution_count": null,
      "id": "36ad3f62",
      "metadata": {
        "id": "36ad3f62"
      },
      "outputs": [],
      "source": [
        ""
      ]
    },
    {
      "cell_type": "code",
      "execution_count": null,
      "id": "3c16a6df",
      "metadata": {
        "id": "3c16a6df"
      },
      "outputs": [],
      "source": [
        "\n",
        "from sys import maxsize\n",
        "from itertools import permutations\n",
        "V = 4\n",
        " \n",
        "# implementation of traveling Salesman Problem\n",
        "def travellingSalesmanProblem(graph, s):\n",
        " \n",
        "    # store all vertex apart from source vertex\n",
        "    vertex = []\n",
        "    for i in range(V):\n",
        "        if i != s:\n",
        "            vertex.append(i)\n",
        " \n",
        "    # store minimum weight \n",
        "    min_path = maxsize\n",
        "    next_permutation=permutations(vertex)\n",
        "    for i in next_permutation:\n",
        " \n",
        "        # store current Path weight(cost)\n",
        "        current_pathweight = 0\n",
        " \n",
        "        # compute current path weight\n",
        "        k = s\n",
        "        for j in i:\n",
        "            current_pathweight += graph[k][j]\n",
        "            k = j\n",
        "        current_pathweight += graph[k][s]\n",
        " \n",
        "        # update minimum\n",
        "        min_path = min(min_path, current_pathweight)\n",
        "         \n",
        "    return min_path"
      ]
    },
    {
      "cell_type": "code",
      "execution_count": null,
      "id": "35914596",
      "metadata": {
        "id": "35914596"
      },
      "outputs": [],
      "source": [
        ""
      ]
    },
    {
      "cell_type": "code",
      "execution_count": null,
      "id": "2007309d",
      "metadata": {
        "id": "2007309d",
        "outputId": "2bd142be-05bd-49c3-8111-20a8a34eea03"
      },
      "outputs": [
        {
          "name": "stdout",
          "output_type": "stream",
          "text": [
            "57\n"
          ]
        }
      ],
      "source": [
        "# matrix representation of graph\n",
        "graph = [[-1, 10, 15, 10], [7, -1, 35, 25], [15, 35, -1, 10], [10, 25, 30, -1]]\n",
        "# [[0, 10, 15, 20], [10, 0, 35, 25],[15, 35, 0, 30], [20, 25, 30, 0]]\n",
        "s = 0\n",
        "print(travellingSalesmanProblem(graph, s))\n",
        "# هنا الفرق باان بين ال2 ميثود االبروت والجريدي  بسبب عدد الاحتمالات الممكنة "
      ]
    },
    {
      "cell_type": "code",
      "execution_count": null,
      "id": "b7a7b084",
      "metadata": {
        "id": "b7a7b084",
        "outputId": "68b784e5-83e6-4e5e-e92d-f4ff777c60de"
      },
      "outputs": [
        {
          "name": "stdout",
          "output_type": "stream",
          "text": [
            "80\n"
          ]
        }
      ],
      "source": [
        "# matrix representation of graph\n",
        "graph = [[0, 10, 15, 20], [10, 0, 35, 25],[15, 35, 0, 30], [20, 25, 30, 0]]\n",
        "s = 0\n",
        "print(travellingSalesmanProblem(graph, s))"
      ]
    },
    {
      "cell_type": "markdown",
      "id": "23fcac52",
      "metadata": {
        "id": "23fcac52"
      },
      "source": [
        "# Explaination for the problem  and Application \n",
        "Travelling Salesman Problem (TSP) : Given a set of cities and distances between every pair of cities, the problem is to find the shortest possible route that visits every city exactly once and returns to the starting point. \n",
        "Note the difference between Hamiltonian Cycle and TSP. The Hamiltonian cycle problem is to find if there exists a tour that visits every city exactly once. Here we know that Hamiltonian Tour exists (because the graph is complete) and in fact, many such tours exist, the problem is to find a minimum weight Hamiltonian Cycle. \n",
        "\n",
        "Source for this explaination : https://www.geeksforgeeks.org/traveling-salesman-problem-tsp-implementation/ "
      ]
    },
    {
      "cell_type": "markdown",
      "id": "096090bf",
      "metadata": {
        "id": "096090bf"
      },
      "source": [
        "## >> Greedy Method "
      ]
    },
    {
      "cell_type": "code",
      "execution_count": null,
      "id": "c2ab9887",
      "metadata": {
        "id": "c2ab9887"
      },
      "outputs": [],
      "source": [
        "\n",
        "from typing import DefaultDict\n",
        " \n",
        " \n",
        "INT_MAX = 2147483647\n",
        " \n",
        "# Function to find the minimum\n",
        "# cost path for all the paths\n",
        "def findMinRoute(tsp):\n",
        "    sum = 0\n",
        "    counter = 0\n",
        "    j = 0\n",
        "    i = 0\n",
        "    min = INT_MAX\n",
        "    visitedRouteList = DefaultDict(int)\n",
        " \n",
        "    # Starting from the 0th indexed\n",
        "    # city i.e., the first city\n",
        "    visitedRouteList[0] = 1\n",
        "    route = [0] * len(tsp)\n",
        " \n",
        "    # Traverse the adjacency\n",
        "    # matrix tsp[][]\n",
        "    while i < len(tsp) and j < len(tsp[i]):\n",
        " \n",
        "        # Corner of the Matrix\n",
        "        if counter >= len(tsp[i]) - 1:\n",
        "            break\n",
        " \n",
        "        # If this path is unvisited then\n",
        "        # and if the cost is less then\n",
        "        # update the cost\n",
        "        if j != i and (visitedRouteList[j] == 0):\n",
        "            if tsp[i][j] < min:\n",
        "                min = tsp[i][j]\n",
        "                route[counter] = j + 1\n",
        " \n",
        "        j += 1\n",
        " \n",
        "        # Check all paths from the\n",
        "        # ith indexed city\n",
        "        if j == len(tsp[i]):\n",
        "            sum += min\n",
        "            min = INT_MAX\n",
        "            visitedRouteList[route[counter] - 1] = 1\n",
        "            j = 0\n",
        "            i = route[counter] - 1\n",
        "            counter += 1\n",
        " \n",
        "    # Update the ending city in array\n",
        "    # from city which was last visited\n",
        "    i = route[counter - 1] - 1\n",
        " \n",
        "    for j in range(len(tsp)):\n",
        " \n",
        "        if (i != j) and tsp[i][j] < min:\n",
        "            min = tsp[i][j]\n",
        "            route[counter] = j + 1 \n",
        " \n",
        "    sum += min\n",
        " \n",
        "    # Started from the node where\n",
        "    # we finished as well.\n",
        "    print(\"Minimum Cost is :\", sum)\n",
        " \n"
      ]
    },
    {
      "cell_type": "code",
      "execution_count": null,
      "id": "30216fc4",
      "metadata": {
        "id": "30216fc4",
        "outputId": "ecdd2e46-947f-464d-94f6-d2c321c9b71a"
      },
      "outputs": [
        {
          "name": "stdout",
          "output_type": "stream",
          "text": [
            "Minimum Cost is : 75\n"
          ]
        }
      ],
      "source": [
        "# Input Matrix\n",
        "tsp = [[-1, 10, 15, 10], [7, -1, 35, 25], [15, 35, -1, 10], [10, 25, 30, -1]]\n",
        "\n",
        "findMinRoute(tsp)"
      ]
    },
    {
      "cell_type": "code",
      "execution_count": null,
      "id": "95f5a025",
      "metadata": {
        "id": "95f5a025",
        "outputId": "7047e0ba-812b-4f3a-e00d-f09cc2feace6"
      },
      "outputs": [
        {
          "name": "stdout",
          "output_type": "stream",
          "text": [
            "Minimum Cost is : 80\n"
          ]
        }
      ],
      "source": [
        "\n",
        "tsp = [[0, 10, 15, 20], [10, 0, 35, 25],[15, 35, 0, 30], [20, 25, 30, 0]]\n",
        "\n",
        "findMinRoute(tsp)"
      ]
    },
    {
      "cell_type": "code",
      "execution_count": null,
      "id": "d759c438",
      "metadata": {
        "id": "d759c438"
      },
      "outputs": [],
      "source": [
        ""
      ]
    }
  ],
  "metadata": {
    "kernelspec": {
      "display_name": "Python 3 (ipykernel)",
      "language": "python",
      "name": "python3"
    },
    "language_info": {
      "codemirror_mode": {
        "name": "ipython",
        "version": 3
      },
      "file_extension": ".py",
      "mimetype": "text/x-python",
      "name": "python",
      "nbconvert_exporter": "python",
      "pygments_lexer": "ipython3",
      "version": "3.9.7"
    },
    "colab": {
      "name": "Traveling Salesman Problem (TSP)_Algorithm_course.ipynb",
      "provenance": [],
      "include_colab_link": true
    }
  },
  "nbformat": 4,
  "nbformat_minor": 5
}